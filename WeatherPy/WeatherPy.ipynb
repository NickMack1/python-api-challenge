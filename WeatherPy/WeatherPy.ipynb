{
 "cells": [
  {
   "cell_type": "markdown",
   "metadata": {},
   "source": [
    "# WeatherPy\n",
    "----\n",
    "\n",
    "#### Note\n",
    "* Instructions have been included for each segment. You do not have to follow them exactly, but they are included to help you think through the steps.\n",
    "\n",
    "## Observations\n",
    "\n",
    "- There seems to be little to no correlation between humidity and Latitude as well as with cloudiness and Latitude. The scatter plot visualizations display no visual trends.\n",
    "\n",
    "- The lattitude Vs Max temp graph has a bell shaped curve which suggest that the closer you get to lattitude '0' (the equator) the hotter the temperatures are and they decrease as you travel in either direction away from latitude '0'.\n",
    "\n",
    "- Southern Hemisphere climates tend to be slightly milder than those at similar latitudes in the Northern Hemisphere. \n",
    "\n",
    "- The Northern Hemisphere max temp and lattiude has the strongest correlation out of all the graphs displayed and we could potentially use the linear regression line to somewhat accurately predict max temps based on a countries latitude.\n"
   ]
  },
  {
   "cell_type": "code",
   "execution_count": 32,
   "metadata": {
    "scrolled": true
   },
   "outputs": [],
   "source": [
    "#Dependancies and imports\n",
    "import pandas as pd\n",
    "import matplotlib.pyplot as plt\n",
    "import requests\n",
    "import numpy as np\n",
    "import time\n",
    "import json\n",
    "import scipy.stats as st\n",
    "\n",
    "#Api keys\n",
    "from api_keys import weather_api_key\n",
    "\n",
    "#citipy import\n",
    "from citipy import citipy\n",
    "\n",
    "#lat and long ranges\n",
    "lat_range = (-90, 90)\n",
    "lng_range =(-180, 180)\n",
    "\n"
   ]
  },
  {
   "cell_type": "markdown",
   "metadata": {},
   "source": [
    "## Generate Cities List"
   ]
  },
  {
   "cell_type": "code",
   "execution_count": 2,
   "metadata": {},
   "outputs": [
    {
     "data": {
      "text/plain": [
       "630"
      ]
     },
     "execution_count": 2,
     "metadata": {},
     "output_type": "execute_result"
    }
   ],
   "source": [
    "lat_lngs = []\n",
    "cities = []\n",
    "\n",
    "# Create a set of random lat and lng combinations\n",
    "lats = np.random.uniform(lat_range[0], lat_range[1], size=1600)\n",
    "lngs = np.random.uniform(lng_range[0], lng_range[1], size=1600)\n",
    "lat_lngs = zip(lats, lngs)\n",
    "\n",
    "# Identify nearest city for each lat, lng combination\n",
    "for lat_lng in lat_lngs:\n",
    "    city = citipy.nearest_city(lat_lng[0], lat_lng[1]).city_name\n",
    "    \n",
    "    # If the city is unique, then add it to a our cities list\n",
    "    if city not in cities:\n",
    "        cities.append(city)\n",
    "\n",
    "# Print the city count to confirm sufficient count\n",
    "len(cities)\n",
    "\n"
   ]
  },
  {
   "cell_type": "code",
   "execution_count": 3,
   "metadata": {},
   "outputs": [
    {
     "name": "stdout",
     "output_type": "stream",
     "text": [
      "{\n",
      "    \"coord\": {\n",
      "        \"lon\": 167.7167,\n",
      "        \"lat\": -45.4167\n",
      "    },\n",
      "    \"weather\": [\n",
      "        {\n",
      "            \"id\": 804,\n",
      "            \"main\": \"Clouds\",\n",
      "            \"description\": \"overcast clouds\",\n",
      "            \"icon\": \"04d\"\n",
      "        }\n",
      "    ],\n",
      "    \"base\": \"stations\",\n",
      "    \"main\": {\n",
      "        \"temp\": 59.05,\n",
      "        \"feels_like\": 59.27,\n",
      "        \"temp_min\": 59.05,\n",
      "        \"temp_max\": 59.05,\n",
      "        \"pressure\": 1010,\n",
      "        \"humidity\": 98,\n",
      "        \"sea_level\": 1010,\n",
      "        \"grnd_level\": 985\n",
      "    },\n",
      "    \"visibility\": 2940,\n",
      "    \"wind\": {\n",
      "        \"speed\": 2.1,\n",
      "        \"deg\": 52,\n",
      "        \"gust\": 10.29\n",
      "    },\n",
      "    \"clouds\": {\n",
      "        \"all\": 100\n",
      "    },\n",
      "    \"dt\": 1650428326,\n",
      "    \"sys\": {\n",
      "        \"country\": \"NZ\",\n",
      "        \"sunrise\": 1650396601,\n",
      "        \"sunset\": 1650434755\n",
      "    },\n",
      "    \"timezone\": 43200,\n",
      "    \"id\": 2181625,\n",
      "    \"name\": \"Te Anau\",\n",
      "    \"cod\": 200\n",
      "}\n"
     ]
    }
   ],
   "source": [
    "base_url = \"http://api.openweathermap.org/data/2.5/weather?\"\n",
    "units = \"imperial\"\n",
    "query_url = f\"{base_url}appid={weather_api_key}&units={units}&q=\"\n",
    "\n",
    "weather_response = requests.get(query_url + city)\n",
    "weather_json = weather_response.json()\n",
    "print(json.dumps(weather_json, indent=4))"
   ]
  },
  {
   "cell_type": "markdown",
   "metadata": {},
   "source": [
    "### Perform API Calls\n",
    "* Perform a weather check on each city using a series of successive API calls.\n",
    "* Include a print log of each city as it'sbeing processed (with the city number and city name).\n"
   ]
  },
  {
   "cell_type": "code",
   "execution_count": 6,
   "metadata": {
    "scrolled": true
   },
   "outputs": [
    {
     "name": "stdout",
     "output_type": "stream",
     "text": [
      "Beginning Data Retrieval\n",
      "-------------------------------\n",
      "Processing Record 1 | Hobart\n",
      "Processing Record 2 | Epe\n",
      "Processing Record 3 | Lookan\n",
      "Processing Record 4 | Chitungwiza\n",
      "Processing Record 5 | Rawson\n",
      "Processing Record 6 | Kailua\n",
      "Processing Record 7 | Loreto\n",
      "Processing Record 8 | Rikitea\n",
      "Processing Record 9 | Egvekinot\n",
      "Processing Record 10 | Port Macquarie\n",
      "Processing Record 11 | Dikson\n",
      "Processing Record 12 | Hasaki\n",
      "Processing Record 13 | Cockburn Town\n",
      "Processing Record 14 | Kapaa\n",
      "Processing Record 15 | Arraial do Cabo\n",
      "Processing Record 16 | Mataura\n",
      "Processing Record 17 | Albany\n",
      "Processing Record 18 | Yellowknife\n",
      "Processing Record 19 | Bealanana\n",
      "City not found. Skipping...\n",
      "Processing Record 20 | Atuona\n",
      "Processing Record 21 | Port Alfred\n",
      "Processing Record 22 | Bluff\n",
      "Processing Record 23 | Cape Town\n",
      "Processing Record 24 | Kushima\n",
      "Processing Record 25 | Vanimo\n",
      "Processing Record 26 | Norman Wells\n",
      "City not found. Skipping...\n",
      "Processing Record 27 | Busselton\n",
      "Processing Record 28 | Bengkulu\n",
      "Processing Record 29 | Dunmore East\n",
      "Processing Record 30 | Ushuaia\n",
      "City not found. Skipping...\n",
      "Processing Record 31 | Tuktoyaktuk\n",
      "Processing Record 32 | Castro\n",
      "Processing Record 33 | Pakhtakoron\n",
      "City not found. Skipping...\n",
      "Processing Record 34 | Kirensk\n",
      "Processing Record 35 | Geraldton\n",
      "Processing Record 36 | Longyearbyen\n",
      "Processing Record 37 | Ajdabiya\n",
      "Processing Record 38 | Khatanga\n",
      "Processing Record 39 | Teya\n",
      "City not found. Skipping...\n",
      "Processing Record 40 | Clyde River\n",
      "Processing Record 41 | Avarua\n",
      "Processing Record 42 | Santa Luzia\n",
      "Processing Record 43 | Sitka\n",
      "Processing Record 44 | Jamestown\n",
      "Processing Record 45 | Vaini\n",
      "Processing Record 46 | Faanui\n",
      "Processing Record 47 | Pevek\n",
      "Processing Record 48 | Departamento de Maldonado\n",
      "Processing Record 49 | Bredasdorp\n",
      "Processing Record 50 | Nouadhibou\n",
      "Processing Record 51 | Qaanaaq\n",
      "Processing Record 52 | Saint Paul Harbor\n",
      "Processing Record 53 | Alyangula\n",
      "Processing Record 54 | Airai\n",
      "Processing Record 55 | Dingle\n",
      "City not found. Skipping...\n",
      "Processing Record 56 | Saskylakh\n",
      "Processing Record 57 | Camabatela\n",
      "Processing Record 58 | Matagami\n",
      "Processing Record 59 | Chokurdakh\n",
      "Processing Record 60 | Vinkovci\n",
      "City not found. Skipping...\n",
      "Processing Record 61 | Barrow\n",
      "Processing Record 62 | Mvomero\n",
      "Processing Record 63 | Hay River\n",
      "Processing Record 64 | Coyhaique\n",
      "Processing Record 65 | Leh\n",
      "Processing Record 66 | Boralday\n",
      "Processing Record 67 | Pascagoula\n",
      "Processing Record 68 | Ponta do Sol\n",
      "City not found. Skipping...\n",
      "Processing Record 69 | Port Elizabeth\n",
      "Processing Record 70 | Punta Arenas\n",
      "Processing Record 71 | Gao\n",
      "Processing Record 72 | Houma\n",
      "Processing Record 73 | Lebu\n",
      "Processing Record 74 | Abhā\n",
      "City not found. Skipping...\n",
      "Processing Record 75 | Córdoba\n",
      "Processing Record 76 | Thayetmyo\n",
      "Processing Record 77 | Stříbro\n",
      "Processing Record 78 | Shellbrook\n",
      "Processing Record 79 | Hithadhoo\n",
      "Processing Record 80 | Saint-Philippe\n",
      "Processing Record 81 | Lata\n",
      "Processing Record 82 | Novoagansk\n",
      "Processing Record 83 | Xuchang\n",
      "Processing Record 84 | Novhorodka\n",
      "Processing Record 85 | Shingū\n",
      "Processing Record 86 | Necochea\n",
      "Processing Record 87 | Kiryat Gat\n",
      "Processing Record 88 | New Norfolk\n",
      "Processing Record 89 | Tasiilaq\n",
      "Processing Record 90 | Puerto Ayora\n",
      "Processing Record 91 | Dayong\n",
      "Processing Record 92 | Abu Dhabi\n",
      "Processing Record 93 | Butaritari\n",
      "Processing Record 94 | Hīt\n",
      "City not found. Skipping...\n",
      "Processing Record 95 | Iberia\n",
      "Processing Record 96 | Leningradskiy\n",
      "Processing Record 97 | Atar\n",
      "Processing Record 98 | Padang\n",
      "Processing Record 99 | Kamyshlov\n",
      "Processing Record 100 | Belidzhi\n",
      "City not found. Skipping...\n",
      "Processing Record 101 | Zalţan\n",
      "Processing Record 102 | Porto-Novo\n",
      "Processing Record 103 | Charters Towers\n",
      "Processing Record 104 | Bethel\n",
      "Processing Record 105 | Hofn\n",
      "Processing Record 106 | Ipixuna\n",
      "Processing Record 107 | Bambous Virieux\n",
      "Processing Record 108 | New Orleans\n",
      "Processing Record 109 | São Mateus do Sul\n",
      "Processing Record 110 | Arica\n",
      "Processing Record 111 | Deputatsky\n",
      "Processing Record 112 | Colombo\n",
      "Processing Record 113 | Flinders\n",
      "Processing Record 114 | Magistral'nyy\n",
      "Processing Record 115 | George Town\n",
      "Processing Record 116 | Hermanus\n",
      "Processing Record 117 | Murska Sobota\n",
      "City not found. Skipping...\n",
      "Processing Record 118 | Kamenka\n",
      "Processing Record 119 | Westport\n",
      "Processing Record 120 | Esperance\n",
      "Processing Record 121 | Severo-Kuril'sk\n",
      "Processing Record 122 | Pozo Colorado\n",
      "City not found. Skipping...\n",
      "Processing Record 123 | Biak\n",
      "Processing Record 124 | Eureka\n",
      "Processing Record 125 | Eirunepé\n",
      "City not found. Skipping...\n",
      "Processing Record 126 | Ilulissat\n",
      "Processing Record 127 | Kirakira\n",
      "Processing Record 128 | Oistins\n",
      "Processing Record 129 | São Gabriel da Cachoeira\n",
      "City not found. Skipping...\n",
      "Processing Record 130 | Port Moresby\n",
      "Processing Record 131 | Codrington\n",
      "Processing Record 132 | Zhezkazgan\n",
      "Processing Record 133 | Carnarvon\n",
      "Processing Record 134 | Dosso\n",
      "Processing Record 135 | Guerrero Negro\n",
      "Processing Record 136 | Gushikawa\n",
      "Processing Record 137 | The Valley\n",
      "Processing Record 138 | Adana Province\n",
      "Processing Record 139 | Ahipara\n",
      "Processing Record 140 | Flin Flon\n",
      "Processing Record 141 | Coolum Beach\n",
      "Processing Record 142 | Svetlaya\n",
      "Processing Record 143 | Nouakchott\n",
      "Processing Record 144 | Nurota\n",
      "Processing Record 145 | Noyabrsk\n",
      "Processing Record 146 | Nantucket\n",
      "Processing Record 147 | Kantang\n",
      "City not found. Skipping...\n",
      "Processing Record 148 | Saint George\n",
      "Processing Record 149 | Galle\n",
      "Processing Record 150 | Puerto Asís\n",
      "City not found. Skipping...\n",
      "Processing Record 151 | Knysna\n",
      "Processing Record 152 | Auki\n",
      "Processing Record 153 | Poum\n",
      "City not found. Skipping...\n",
      "Processing Record 154 | Mount Gambier\n",
      "Processing Record 155 | Lüderitz\n",
      "Processing Record 156 | Zhigansk\n",
      "Processing Record 157 | Concordia\n",
      "Processing Record 158 | Hailey\n",
      "Processing Record 159 | Witu\n",
      "Processing Record 160 | Lagoa\n",
      "Processing Record 161 | Caravelas\n",
      "Processing Record 162 | Aswān\n",
      "Processing Record 163 | La Ronge\n",
      "Processing Record 164 | Saint-Augustin\n",
      "Processing Record 165 | Vallenar\n",
      "Processing Record 166 | Hong Kong\n",
      "Processing Record 167 | San Policarpo\n",
      "Processing Record 168 | Provideniya\n",
      "Processing Record 169 | Alghero\n",
      "Processing Record 170 | Kitoy\n",
      "Processing Record 171 | Half Moon Bay\n",
      "Processing Record 172 | Kaitangata\n",
      "Processing Record 173 | Ketchikan\n",
      "Processing Record 174 | Fairbanks\n",
      "Processing Record 175 | Fallon\n",
      "Processing Record 176 | Karasjok\n",
      "Processing Record 177 | Lompoc\n",
      "Processing Record 178 | Souillac\n",
      "Processing Record 179 | Alice Springs\n",
      "Processing Record 180 | Saldanha\n",
      "City not found. Skipping...\n",
      "Processing Record 181 | Glasgow\n",
      "Processing Record 182 | Katsuura\n",
      "Processing Record 183 | Nikolskoye\n",
      "Processing Record 184 | Kruisfontein\n",
      "Processing Record 185 | Pangody\n",
      "City not found. Skipping...\n",
      "Processing Record 186 | Ardrossan\n",
      "Processing Record 187 | Salalah\n",
      "Processing Record 188 | Buíque\n",
      "City not found. Skipping...\n",
      "Processing Record 189 | Ostrovnoy\n",
      "Processing Record 190 | Amrāvati\n",
      "Processing Record 191 | Margate\n",
      "Processing Record 192 | Paamiut\n",
      "Processing Record 193 | Kavieng\n",
      "Processing Record 194 | Strezhevoy\n",
      "Processing Record 195 | Torbay\n",
      "Processing Record 196 | East London\n",
      "Processing Record 197 | Roebourne\n",
      "City not found. Skipping...\n",
      "Processing Record 198 | Faya\n",
      "Processing Record 199 | Krasnystaw\n",
      "Processing Record 200 | Santa Isabel Rio Negro\n",
      "Processing Record 201 | Cabo San Lucas\n",
      "Processing Record 202 | Hilo\n",
      "Processing Record 203 | San Juan\n",
      "Processing Record 204 | Tweed\n",
      "Processing Record 205 | Bilibino\n",
      "City not found. Skipping...\n",
      "Processing Record 206 | Ciudad del Carmen\n",
      "Processing Record 207 | Āstāneh-ye Ashrafīyeh\n",
      "Processing Record 208 | Havøysund\n",
      "Processing Record 209 | Aki\n",
      "Processing Record 210 | Richards Bay\n",
      "Processing Record 211 | Tiksi\n",
      "Processing Record 212 | Lloydminster\n",
      "Processing Record 213 | Oktyabr'skoye\n",
      "Processing Record 214 | Riohacha\n",
      "Processing Record 215 | Mar del Plata\n",
      "Processing Record 216 | San Felipe\n",
      "Processing Record 217 | Angoche\n",
      "Processing Record 218 | Borūjerd\n",
      "Processing Record 219 | Kamina\n",
      "Processing Record 220 | Selçuk\n",
      "Processing Record 221 | Ribeira Grande\n",
      "Processing Record 222 | Gambiran\n",
      "Processing Record 223 | Kuala Pilah\n",
      "Processing Record 224 | San Patricio\n",
      "Processing Record 225 | Gwanda\n",
      "Processing Record 226 | Santa Rosa\n",
      "Processing Record 227 | Hobyo\n",
      "Processing Record 228 | Hamadan\n",
      "Processing Record 229 | Palmer\n",
      "Processing Record 230 | Villamontes\n",
      "Processing Record 231 | Murmashi\n",
      "Processing Record 232 | Tuatapere\n",
      "Processing Record 233 | Fortuna\n",
      "Processing Record 234 | Safi\n",
      "Processing Record 235 | Oranjemund\n",
      "Processing Record 236 | Oussouye\n",
      "Processing Record 237 | Taoudenni\n",
      "Processing Record 238 | Thompson\n",
      "Processing Record 239 | Haines Junction\n",
      "Processing Record 240 | Tambo Grande\n",
      "Processing Record 241 | Bilma\n",
      "Processing Record 242 | Mahébourg\n",
      "Processing Record 243 | Nortelândia\n",
      "Processing Record 244 | Port-Gentil\n",
      "Processing Record 245 | Villazón\n",
      "Processing Record 246 | Cidreira\n",
      "Processing Record 247 | Kabalo\n",
      "Processing Record 248 | Viedma\n",
      "Processing Record 249 | Cayenne\n",
      "Processing Record 250 | Kjøllefjord\n",
      "Processing Record 251 | Escanaba\n",
      "Processing Record 252 | Capreol\n",
      "Processing Record 253 | Grindavik\n",
      "Processing Record 254 | Jalu\n",
      "Processing Record 255 | Kupiškis\n",
      "Processing Record 256 | Kisangani\n",
      "Processing Record 257 | Beipiao\n",
      "Processing Record 258 | Port Lincoln\n",
      "Processing Record 259 | Thunder Bay\n",
      "Processing Record 260 | Zelenets\n",
      "Processing Record 261 | College\n",
      "Processing Record 262 | Mâncio Lima\n",
      "Processing Record 263 | Quatre Cocos\n",
      "City not found. Skipping...\n",
      "Processing Record 264 | Tessalit\n",
      "Processing Record 265 | Gisborne\n",
      "Processing Record 266 | Chicama\n",
      "Processing Record 267 | Daru\n",
      "Processing Record 268 | Honiara\n",
      "Processing Record 269 | Port Keats\n",
      "Processing Record 270 | Tauá\n",
      "Processing Record 271 | Ishigaki\n",
      "Processing Record 272 | Upata\n",
      "Processing Record 273 | Mocuba\n",
      "Processing Record 274 | Sinjai\n",
      "Processing Record 275 | Beringovskiy\n",
      "City not found. Skipping...\n",
      "Processing Record 276 | Idritsa\n",
      "Processing Record 277 | Khakhea\n",
      "Processing Record 278 | Vincennes\n",
      "Processing Record 279 | Kilindoni\n",
      "Processing Record 280 | Rocha\n",
      "Processing Record 281 | Hualmay\n",
      "Processing Record 282 | Iqaluit\n",
      "Processing Record 283 | Lorengau\n",
      "Processing Record 284 | Lincoln\n",
      "Processing Record 285 | Solnechnyy\n",
      "Processing Record 286 | Vardø\n",
      "Processing Record 287 | Kahului\n",
      "Processing Record 288 | Borogontsy\n",
      "Processing Record 289 | Navrongo\n",
      "Processing Record 290 | Townsville\n",
      "Processing Record 291 | Kijabe\n",
      "Processing Record 292 | Piaçabuçu\n",
      "Processing Record 293 | Goderich\n",
      "Processing Record 294 | Esna\n",
      "Processing Record 295 | Indi\n",
      "Processing Record 296 | Te Anau\n",
      "Processing Record 297 | Camacha\n",
      "City not found. Skipping...\n",
      "Processing Record 298 | Tarakan\n",
      "Processing Record 299 | Sangar\n",
      "Processing Record 300 | Tura\n",
      "Processing Record 301 | Vestmannaeyjar\n",
      "Processing Record 302 | Uyskoye\n",
      "Processing Record 303 | Eyl\n",
      "Processing Record 304 | Waddān\n",
      "Processing Record 305 | Grand Gaube\n",
      "Processing Record 306 | Batesville\n",
      "Processing Record 307 | East Moline\n",
      "Processing Record 308 | Neochori\n",
      "Processing Record 309 | Teruel\n",
      "Processing Record 310 | Pushkino\n",
      "Processing Record 311 | Perth\n",
      "Processing Record 312 | Micăsasa\n",
      "Processing Record 313 | San Cristobal\n",
      "Processing Record 314 | Marawi\n",
      "Processing Record 315 | Bullas\n",
      "Processing Record 316 | Karratha\n",
      "Processing Record 317 | Adrar\n",
      "Processing Record 318 | Boa Vista\n",
      "Processing Record 319 | Meulaboh\n",
      "Processing Record 320 | Orange Cove\n",
      "City not found. Skipping...\n",
      "Processing Record 321 | Chui\n",
      "Processing Record 322 | Rio Grande\n",
      "Processing Record 323 | Andenes\n",
      "Processing Record 324 | Soskovo\n",
      "Processing Record 325 | Lázaro Cárdenas\n",
      "Processing Record 326 | Golspie\n",
      "Processing Record 327 | Ibipeba\n",
      "Processing Record 328 | Erenhot\n",
      "Processing Record 329 | Gunnedah\n",
      "Processing Record 330 | Ürümqi\n",
      "Processing Record 331 | Coquimbo\n",
      "Processing Record 332 | Vao\n",
      "Processing Record 333 | Praia\n",
      "Processing Record 334 | Mossamedes\n",
      "Processing Record 335 | Broken Hill\n",
      "Processing Record 336 | Bafia\n",
      "Processing Record 337 | Al Bardīyah\n",
      "Processing Record 338 | Jadu\n",
      "Processing Record 339 | Lac du Bonnet\n",
      "Processing Record 340 | Blagoyevo\n",
      "Processing Record 341 | São João da Barra\n",
      "Processing Record 342 | Biltine\n",
      "City not found. Skipping...\n",
      "Processing Record 343 | Narsaq\n",
      "Processing Record 344 | Griffith\n",
      "Processing Record 345 | West Lafayette\n",
      "Processing Record 346 | Copiapó\n",
      "Processing Record 347 | Najrān\n",
      "Processing Record 348 | Port Augusta\n",
      "Processing Record 349 | Moss Vale\n",
      "Processing Record 350 | Nyzhni Sirohozy\n",
      "Processing Record 351 | Lavrentiya\n",
      "Processing Record 352 | Muli\n",
      "Processing Record 353 | Klaksvík\n",
      "Processing Record 354 | Saint Lawrence\n",
      "Processing Record 355 | Novikovo\n",
      "Processing Record 356 | Huarmey\n",
      "Processing Record 357 | Yagoua\n",
      "Processing Record 358 | Talnakh\n",
      "Processing Record 359 | Ligayan\n",
      "Processing Record 360 | Marsh Harbour\n",
      "Processing Record 361 | Kishtwār\n",
      "Processing Record 362 | Saint Anthony\n",
      "City not found. Skipping...\n",
      "Processing Record 363 | Catuday\n",
      "Processing Record 364 | Sarangani\n",
      "Processing Record 365 | Meadow Lake\n",
      "Processing Record 366 | Kloulklubed\n",
      "Processing Record 367 | Antofagasta\n",
      "Processing Record 368 | Grande Rivière du Nord\n",
      "Processing Record 369 | San Francisco\n",
      "Processing Record 370 | Sawang Daen Din\n",
      "City not found. Skipping...\n",
      "Processing Record 371 | Presidencia Roque Sáenz Peña\n",
      "Processing Record 372 | Mahajanga\n",
      "Processing Record 373 | Ancud\n",
      "Processing Record 374 | Singkang\n",
      "Processing Record 375 | Nicoya\n",
      "City not found. Skipping...\n",
      "Processing Record 376 | Guiratinga\n",
      "Processing Record 377 | Porto Murtinho\n",
      "Processing Record 378 | Porto Belo\n",
      "Processing Record 379 | Tabuk\n",
      "Processing Record 380 | Kindu\n",
      "Processing Record 381 | Gorom-Gorom\n",
      "Processing Record 382 | Qaqortoq\n",
      "Processing Record 383 | Hamilton\n",
      "Processing Record 384 | Bathsheba\n",
      "Processing Record 385 | Sobolevo\n",
      "Processing Record 386 | Micheweni\n",
      "Processing Record 387 | Halifax\n",
      "Processing Record 388 | Terme\n",
      "Processing Record 389 | Isangel\n",
      "Processing Record 390 | Tual\n",
      "Processing Record 391 | Binga\n",
      "Processing Record 392 | Sonoita\n",
      "Processing Record 393 | Pisco\n",
      "Processing Record 394 | Cravo Norte\n",
      "Processing Record 395 | Manta\n",
      "City not found. Skipping...\n",
      "Processing Record 396 | São José da Coroa Grande\n",
      "Processing Record 397 | La Rioja\n",
      "Processing Record 398 | Constitución\n",
      "City not found. Skipping...\n",
      "Processing Record 399 | Cashel\n",
      "Processing Record 400 | Portland\n",
      "Processing Record 401 | Berlevåg\n",
      "Processing Record 402 | Yining\n",
      "Processing Record 403 | Morón\n",
      "Processing Record 404 | Bauska\n",
      "Processing Record 405 | Gizo Government Station\n",
      "Processing Record 406 | Terekli-Mekteb\n",
      "Processing Record 407 | Yangi Marg`ilon\n",
      "Processing Record 408 | Salon\n",
      "Processing Record 409 | Kiama\n",
      "Processing Record 410 | Óbidos\n",
      "Processing Record 411 | Erkelenz\n",
      "Processing Record 412 | Christchurch\n",
      "Processing Record 413 | Mount Isa\n",
      "Processing Record 414 | Nanortalik\n",
      "City not found. Skipping...\n",
      "Processing Record 415 | Ambilobe\n",
      "Processing Record 416 | Laguna\n",
      "Processing Record 417 | Acapulco de Juárez\n",
      "Processing Record 418 | Leshukonskoye\n",
      "Processing Record 419 | Cherskiy\n",
      "City not found. Skipping...\n",
      "City not found. Skipping...\n",
      "Processing Record 420 | Örnsköldsvik\n",
      "Processing Record 421 | Sola\n",
      "Processing Record 422 | Nuuk\n",
      "Processing Record 423 | Barcelos\n",
      "Processing Record 424 | Kostalexis\n",
      "City not found. Skipping...\n",
      "Processing Record 425 | Mezhdurechensk\n",
      "Processing Record 426 | Mana\n",
      "Processing Record 427 | Tevaitoa\n",
      "Processing Record 428 | Bintulu\n",
      "Processing Record 429 | Valky\n",
      "Processing Record 430 | Kilis\n",
      "Processing Record 431 | Altamont\n",
      "Processing Record 432 | Ranong\n",
      "Processing Record 433 | Saucillo\n",
      "Processing Record 434 | Santa Helena\n",
      "Processing Record 435 | Inverell\n",
      "Processing Record 436 | Bumba\n",
      "Processing Record 437 | Oruzgan\n",
      "Processing Record 438 | Am Timan\n",
      "Processing Record 439 | Kaseda-shirakame\n",
      "Processing Record 440 | Natal\n",
      "Processing Record 441 | Los Llanos de Aridane\n",
      "Processing Record 442 | Urmia\n",
      "Processing Record 443 | Yulara\n",
      "Processing Record 444 | Tsimmerbude\n",
      "Processing Record 445 | Gawler\n",
      "Processing Record 446 | Arrecife\n",
      "Processing Record 447 | Tautira\n",
      "Processing Record 448 | Taksimo\n",
      "Processing Record 449 | Kuytun\n",
      "Processing Record 450 | Kendari\n",
      "Processing Record 451 | Vanavara\n",
      "Processing Record 452 | Kärdla\n",
      "Processing Record 453 | Dunedin\n",
      "Processing Record 454 | Bismarck\n",
      "Processing Record 455 | Santa Maria\n",
      "Processing Record 456 | Verāval\n",
      "Processing Record 457 | Medianeira\n",
      "Processing Record 458 | Supe\n",
      "Processing Record 459 | Puerto Baquerizo Moreno\n",
      "Processing Record 460 | Wewak\n",
      "Processing Record 461 | Custoias\n",
      "Processing Record 462 | Ardabil\n",
      "Processing Record 463 | Cap Malheureux\n",
      "Processing Record 464 | Fjerritslev\n",
      "Processing Record 465 | Anadyr\n",
      "Processing Record 466 | Voskevan\n",
      "Processing Record 467 | Gīdolē\n",
      "City not found. Skipping...\n",
      "Processing Record 468 | Pathein\n",
      "Processing Record 469 | Torquay\n",
      "Processing Record 470 | Bubaque\n",
      "Processing Record 471 | Gornopravdinsk\n",
      "Processing Record 472 | Guane\n",
      "City not found. Skipping...\n",
      "Processing Record 473 | Vila Franca do Campo\n",
      "City not found. Skipping...\n",
      "Processing Record 474 | Severodvinsk\n",
      "Processing Record 475 | Suileng\n",
      "Processing Record 476 | Port Blair\n",
      "Processing Record 477 | Sayyan\n",
      "Processing Record 478 | Sampit\n",
      "Processing Record 479 | Lubango\n",
      "Processing Record 480 | Darhan\n",
      "Processing Record 481 | Puro\n",
      "Processing Record 482 | Šibenik\n",
      "Processing Record 483 | Aden\n",
      "Processing Record 484 | Ialibu\n",
      "Processing Record 485 | Pontianak\n",
      "Processing Record 486 | Roald\n",
      "City not found. Skipping...\n",
      "Processing Record 487 | San Miguel de Cozumel\n",
      "City not found. Skipping...\n",
      "Processing Record 488 | Sioux Lookout\n",
      "Processing Record 489 | Esmeraldas\n",
      "Processing Record 490 | Ugoofaaru\n",
      "City not found. Skipping...\n",
      "City not found. Skipping...\n",
      "Processing Record 491 | Acaraú\n",
      "Processing Record 492 | Nyurba\n",
      "Processing Record 493 | Hambantota\n",
      "Processing Record 494 | North Bend\n",
      "City not found. Skipping...\n",
      "Processing Record 495 | Peniche\n",
      "Processing Record 496 | Mogadishu\n",
      "Processing Record 497 | Voyvozh\n",
      "Processing Record 498 | Mayo\n",
      "City not found. Skipping...\n",
      "Processing Record 499 | Beidao\n",
      "Processing Record 500 | Manzanillo\n",
      "Processing Record 501 | Betioky\n",
      "Processing Record 502 | Khomutovka\n",
      "Processing Record 503 | Asău\n",
      "Processing Record 504 | Honningsvåg\n",
      "Processing Record 505 | Ust-Nera\n",
      "City not found. Skipping...\n",
      "Processing Record 506 | Lucapa\n",
      "Processing Record 507 | High Level\n",
      "Processing Record 508 | Waipawa\n",
      "Processing Record 509 | Kodinsk\n",
      "Processing Record 510 | Lima\n",
      "Processing Record 511 | Sarany\n",
      "Processing Record 512 | Forestville\n",
      "Processing Record 513 | Klyuchi\n",
      "Processing Record 514 | Agadez\n",
      "Processing Record 515 | Kysyl-Syr\n",
      "Processing Record 516 | Naze\n",
      "Processing Record 517 | Kutum\n",
      "Processing Record 518 | Kawalu\n",
      "Processing Record 519 | Avera\n",
      "Processing Record 520 | Semīrom\n",
      "Processing Record 521 | Vila Velha\n",
      "Processing Record 522 | Ilhabela\n",
      "Processing Record 523 | Petropavlovsk-Kamchatskiy\n",
      "Processing Record 524 | San Fernando del Valle de Catamarca\n",
      "Processing Record 525 | Devonport\n",
      "Processing Record 526 | Carbonia\n",
      "Processing Record 527 | Carutapera\n",
      "Processing Record 528 | Upernavik\n",
      "Processing Record 529 | Markova\n",
      "Processing Record 530 | Kisiwani\n",
      "Processing Record 531 | Praia\n",
      "Processing Record 532 | Bella Union\n",
      "Processing Record 533 | Bragança\n",
      "Processing Record 534 | Valparai\n",
      "Processing Record 535 | Pasni\n",
      "City not found. Skipping...\n",
      "Processing Record 536 | Atyrau\n",
      "Processing Record 537 | Umluj\n",
      "Processing Record 538 | Wuwei\n",
      "Processing Record 539 | Rosetta\n",
      "Processing Record 540 | Saint-François\n",
      "Processing Record 541 | Northam\n",
      "City not found. Skipping...\n",
      "Processing Record 542 | Dudinka\n",
      "Processing Record 543 | Marabu\n",
      "Processing Record 544 | Arlit\n",
      "Processing Record 545 | Skeldon\n",
      "Processing Record 546 | Kandiari\n",
      "Processing Record 547 | Abbeville\n",
      "Processing Record 548 | Atambua\n",
      "Processing Record 549 | Zyryanka\n",
      "Processing Record 550 | Mortka\n",
      "Processing Record 551 | Mattru\n",
      "Processing Record 552 | Vigrestad\n",
      "Processing Record 553 | Koumac\n",
      "Processing Record 554 | Bandarbeyla\n",
      "Processing Record 555 | Lakes Entrance\n",
      "Processing Record 556 | Port-Cartier\n",
      "City not found. Skipping...\n",
      "Processing Record 557 | Pahrump\n",
      "Processing Record 558 | Hunchun\n",
      "Processing Record 559 | Abu Samrah\n",
      "Processing Record 560 | Shahreza\n",
      "Processing Record 561 | Dongsheng\n",
      "Processing Record 562 | Kongsberg\n",
      "Processing Record 563 | Zhangye\n",
      "Processing Record 564 | Iquique\n",
      "Processing Record 565 | Kargasok\n",
      "Processing Record 566 | Yumen\n",
      "Processing Record 567 | Hakkâri Province\n",
      "Processing Record 568 | Srednekolymsk\n",
      "City not found. Skipping...\n",
      "City not found. Skipping...\n",
      "Processing Record 569 | Alugan\n",
      "Processing Record 570 | Shīeli\n",
      "Processing Record 571 | Anori\n",
      "Processing Record 572 | Truro\n",
      "Processing Record 573 | Brawley\n",
      "Processing Record 574 | Lovozero\n",
      "Processing Record 575 | Mopipi\n",
      "Processing Record 576 | Elmadağ\n",
      "Processing Record 577 | Malkara\n",
      "Processing Record 578 | Mt. Pleasant\n",
      "-------------------------------\n",
      "Data Retrieval Complete\n",
      "-------------------------------\n"
     ]
    }
   ],
   "source": [
    "#set Variables\n",
    "city_name = []\n",
    "country = []\n",
    "date = []\n",
    "latitude = []\n",
    "longitude = []\n",
    "max_temperature = []\n",
    "humidity = []\n",
    "cloudiness = []\n",
    "wind_speed = []\n",
    "\n",
    "# Processing Record Counter Starting a 1\n",
    "processing_record = 1\n",
    "\n",
    "# Print Starting Log Statement\n",
    "print(f\"Beginning Data Retrieval\")\n",
    "print(f\"-------------------------------\")\n",
    "\n",
    "# Loop Through List of Cities & Perform a Request for Data on Each\n",
    "for city in cities:\n",
    "\n",
    "# Exception Handling\n",
    "    try:\n",
    "        response = requests.get(query_url + city).json()\n",
    "        city_name.append(response[\"name\"])\n",
    "        country.append(response[\"sys\"][\"country\"])\n",
    "        date.append(response[\"dt\"])\n",
    "        latitude.append(response[\"coord\"][\"lat\"])\n",
    "        longitude.append(response[\"coord\"][\"lon\"])\n",
    "        max_temperature.append(response[\"main\"][\"temp_max\"])\n",
    "        humidity.append(response[\"main\"][\"humidity\"])\n",
    "        cloudiness.append(response[\"clouds\"][\"all\"])\n",
    "        wind_speed.append(response[\"wind\"][\"speed\"])\n",
    "        city_record = response[\"name\"]\n",
    "        print(f\"Processing Record {processing_record} | {city_record}\")\n",
    "        \n",
    "        # Increase Processing Record Counter by 1 For Each Loop\n",
    "        processing_record += 1\n",
    "        \n",
    "    except:\n",
    "        print(\"City not found. Skipping...\") \n",
    "    continue\n",
    "\n",
    "# Print Ending Log Statement\n",
    "print(f\"-------------------------------\")\n",
    "print(f\"Data Retrieval Complete\")\n",
    "print(f\"-------------------------------\")\n",
    "\n"
   ]
  },
  {
   "cell_type": "markdown",
   "metadata": {},
   "source": [
    "### Convert Raw Data to DataFrame\n",
    "* Export the city data into a .csv.\n",
    "* Display the DataFrame"
   ]
  },
  {
   "cell_type": "code",
   "execution_count": 10,
   "metadata": {},
   "outputs": [
    {
     "data": {
      "text/html": [
       "<div>\n",
       "<style scoped>\n",
       "    .dataframe tbody tr th:only-of-type {\n",
       "        vertical-align: middle;\n",
       "    }\n",
       "\n",
       "    .dataframe tbody tr th {\n",
       "        vertical-align: top;\n",
       "    }\n",
       "\n",
       "    .dataframe thead th {\n",
       "        text-align: right;\n",
       "    }\n",
       "</style>\n",
       "<table border=\"1\" class=\"dataframe\">\n",
       "  <thead>\n",
       "    <tr style=\"text-align: right;\">\n",
       "      <th></th>\n",
       "      <th>City</th>\n",
       "      <th>Lat</th>\n",
       "      <th>Lng</th>\n",
       "      <th>Max Temp</th>\n",
       "      <th>Humidity</th>\n",
       "      <th>Cloudiness</th>\n",
       "      <th>Wind Speed</th>\n",
       "      <th>Country</th>\n",
       "      <th>Date</th>\n",
       "    </tr>\n",
       "  </thead>\n",
       "  <tbody>\n",
       "    <tr>\n",
       "      <th>0</th>\n",
       "      <td>Hobart</td>\n",
       "      <td>-42.8794</td>\n",
       "      <td>147.3294</td>\n",
       "      <td>62.46</td>\n",
       "      <td>50</td>\n",
       "      <td>20</td>\n",
       "      <td>17.27</td>\n",
       "      <td>AU</td>\n",
       "      <td>1650428332</td>\n",
       "    </tr>\n",
       "    <tr>\n",
       "      <th>1</th>\n",
       "      <td>Epe</td>\n",
       "      <td>6.5841</td>\n",
       "      <td>3.9834</td>\n",
       "      <td>77.81</td>\n",
       "      <td>91</td>\n",
       "      <td>92</td>\n",
       "      <td>1.77</td>\n",
       "      <td>NG</td>\n",
       "      <td>1650428332</td>\n",
       "    </tr>\n",
       "    <tr>\n",
       "      <th>2</th>\n",
       "      <td>Lookan</td>\n",
       "      <td>5.0370</td>\n",
       "      <td>120.1027</td>\n",
       "      <td>82.74</td>\n",
       "      <td>75</td>\n",
       "      <td>98</td>\n",
       "      <td>4.99</td>\n",
       "      <td>PH</td>\n",
       "      <td>1650428332</td>\n",
       "    </tr>\n",
       "    <tr>\n",
       "      <th>3</th>\n",
       "      <td>Chitungwiza</td>\n",
       "      <td>-18.0127</td>\n",
       "      <td>31.0756</td>\n",
       "      <td>53.74</td>\n",
       "      <td>95</td>\n",
       "      <td>100</td>\n",
       "      <td>6.44</td>\n",
       "      <td>ZW</td>\n",
       "      <td>1650428332</td>\n",
       "    </tr>\n",
       "    <tr>\n",
       "      <th>4</th>\n",
       "      <td>Rawson</td>\n",
       "      <td>-43.3002</td>\n",
       "      <td>-65.1023</td>\n",
       "      <td>61.36</td>\n",
       "      <td>40</td>\n",
       "      <td>99</td>\n",
       "      <td>5.41</td>\n",
       "      <td>AR</td>\n",
       "      <td>1650427962</td>\n",
       "    </tr>\n",
       "  </tbody>\n",
       "</table>\n",
       "</div>"
      ],
      "text/plain": [
       "          City      Lat       Lng  Max Temp  Humidity  Cloudiness  Wind Speed  \\\n",
       "0       Hobart -42.8794  147.3294     62.46        50          20       17.27   \n",
       "1          Epe   6.5841    3.9834     77.81        91          92        1.77   \n",
       "2       Lookan   5.0370  120.1027     82.74        75          98        4.99   \n",
       "3  Chitungwiza -18.0127   31.0756     53.74        95         100        6.44   \n",
       "4       Rawson -43.3002  -65.1023     61.36        40          99        5.41   \n",
       "\n",
       "  Country        Date  \n",
       "0      AU  1650428332  \n",
       "1      NG  1650428332  \n",
       "2      PH  1650428332  \n",
       "3      ZW  1650428332  \n",
       "4      AR  1650427962  "
      ]
     },
     "execution_count": 10,
     "metadata": {},
     "output_type": "execute_result"
    }
   ],
   "source": [
    "weather_dict = {\n",
    "    \"City\": city_name,\n",
    "    \"Lat\": latitude,\n",
    "    \"Lng\": longitude,\n",
    "    \"Max Temp\": max_temperature,\n",
    "    \"Humidity\": humidity,\n",
    "    \"Cloudiness\": cloudiness,\n",
    "    \"Wind Speed\": wind_speed,\n",
    "    \"Country\": country,\n",
    "    \"Date\": date\n",
    "}\n",
    "\n",
    "Weather_df = pd.DataFrame(weather_dict)\n",
    "\n",
    "pd.DataFrame.to_csv(Weather_df, 'City_weather_data.csv')\n",
    "\n",
    "Weather_df.head()"
   ]
  },
  {
   "cell_type": "markdown",
   "metadata": {},
   "source": [
    "## Inspect the data and remove the cities where the humidity > 100%.\n",
    "----\n",
    "Skip this step if there are no cities that have humidity > 100%. "
   ]
  },
  {
   "cell_type": "code",
   "execution_count": 14,
   "metadata": {},
   "outputs": [
    {
     "data": {
      "text/html": [
       "<div>\n",
       "<style scoped>\n",
       "    .dataframe tbody tr th:only-of-type {\n",
       "        vertical-align: middle;\n",
       "    }\n",
       "\n",
       "    .dataframe tbody tr th {\n",
       "        vertical-align: top;\n",
       "    }\n",
       "\n",
       "    .dataframe thead th {\n",
       "        text-align: right;\n",
       "    }\n",
       "</style>\n",
       "<table border=\"1\" class=\"dataframe\">\n",
       "  <thead>\n",
       "    <tr style=\"text-align: right;\">\n",
       "      <th></th>\n",
       "      <th>City</th>\n",
       "      <th>Lat</th>\n",
       "      <th>Lng</th>\n",
       "      <th>Max Temp</th>\n",
       "      <th>Humidity</th>\n",
       "      <th>Cloudiness</th>\n",
       "      <th>Wind Speed</th>\n",
       "      <th>Country</th>\n",
       "      <th>Date</th>\n",
       "    </tr>\n",
       "  </thead>\n",
       "  <tbody>\n",
       "  </tbody>\n",
       "</table>\n",
       "</div>"
      ],
      "text/plain": [
       "Empty DataFrame\n",
       "Columns: [City, Lat, Lng, Max Temp, Humidity, Cloudiness, Wind Speed, Country, Date]\n",
       "Index: []"
      ]
     },
     "execution_count": 14,
     "metadata": {},
     "output_type": "execute_result"
    }
   ],
   "source": [
    "weather_df_flt = Weather_df[Weather_df['Humidity'] > 100]\n",
    "weather_df_flt.head()"
   ]
  },
  {
   "cell_type": "code",
   "execution_count": 15,
   "metadata": {},
   "outputs": [],
   "source": [
    "#  Get the indices of cities that have humidity over 100%.\n"
   ]
  },
  {
   "cell_type": "code",
   "execution_count": 16,
   "metadata": {},
   "outputs": [],
   "source": [
    "# Make a new DataFrame equal to the city data to drop all humidity outliers by index.\n",
    "# Passing \"inplace=False\" will make a copy of the city_data DataFrame, which we call \"clean_city_data\".\n"
   ]
  },
  {
   "cell_type": "code",
   "execution_count": null,
   "metadata": {},
   "outputs": [],
   "source": [
    "\n"
   ]
  },
  {
   "cell_type": "markdown",
   "metadata": {},
   "source": [
    "## Plotting the Data\n",
    "* Use proper labeling of the plots using plot titles (including date of analysis) and axes labels.\n",
    "* Save the plotted figures as .pngs."
   ]
  },
  {
   "cell_type": "markdown",
   "metadata": {},
   "source": [
    "## Latitude vs. Temperature Plot"
   ]
  },
  {
   "cell_type": "code",
   "execution_count": 28,
   "metadata": {
    "scrolled": true
   },
   "outputs": [
    {
     "data": {
      "image/png": "[encoded data removed]",
      "text/plain": [
       "<Figure size 432x288 with 1 Axes>"
      ]
     },
     "metadata": {
      "needs_background": "light"
     },
     "output_type": "display_data"
    }
   ],
   "source": [
    "plt.scatter(Weather_df[\"Lat\"], Weather_df[\"Max Temp\"], facecolors=\"green\", marker=\"o\", edgecolor=\"black\")\n",
    "\n",
    "plt.title(\"City Latitude vs. Max Temperature (20/04/2022)\")\n",
    "plt.ylabel(\"Max Temperature (°F)\")\n",
    "plt.xlabel(\"Latitude\")\n",
    "plt.grid(True)\n",
    "\n",
    "# Save Figure\n",
    "plt.savefig(\"City_Latitude_vs_Max_Temperature.png\")\n",
    "\n",
    "# Show Plot\n",
    "plt.show()\n",
    "\n"
   ]
  },
  {
   "cell_type": "markdown",
   "metadata": {},
   "source": [
    "## Latitude vs. Humidity Plot"
   ]
  },
  {
   "cell_type": "code",
   "execution_count": 27,
   "metadata": {},
   "outputs": [
    {
     "data": {
      "image/png": "[encoded data removed]",
      "text/plain": [
       "<Figure size 432x288 with 1 Axes>"
      ]
     },
     "metadata": {
      "needs_background": "light"
     },
     "output_type": "display_data"
    }
   ],
   "source": [
    "plt.scatter(Weather_df[\"Lat\"], Weather_df[\"Humidity\"], facecolors=\"blue\", marker=\"o\", edgecolor=\"black\")\n",
    "\n",
    "plt.title(\"City Latitude vs. Humidity (20/04/2022)\")\n",
    "plt.ylabel(\"Humidity (%)\")\n",
    "plt.xlabel(\"Latitude\")\n",
    "plt.grid(True)\n",
    "\n",
    "# Save Figure\n",
    "plt.savefig(\"City_Latitude_vs_Humidity.png\")\n",
    "\n",
    "# Show Plot\n",
    "plt.show()"
   ]
  },
  {
   "cell_type": "markdown",
   "metadata": {},
   "source": [
    "## Latitude vs. Cloudiness Plot"
   ]
  },
  {
   "cell_type": "code",
   "execution_count": 25,
   "metadata": {},
   "outputs": [
    {
     "data": {
      "image/png": "[encoded data removed]",
      "text/plain": [
       "<Figure size 432x288 with 1 Axes>"
      ]
     },
     "metadata": {
      "needs_background": "light"
     },
     "output_type": "display_data"
    }
   ],
   "source": [
    "plt.scatter(Weather_df[\"Lat\"], Weather_df[\"Cloudiness\"], facecolors=\"red\", marker=\"o\", edgecolor=\"black\")\n",
    "\n",
    "plt.title(\"City Latitude vs. Cloudiness (20/04/2022)\")\n",
    "plt.ylabel(\"Cloudiness (%)\")\n",
    "plt.xlabel(\"Latitude\")\n",
    "plt.grid(True)\n",
    "\n",
    "# Save Figure\n",
    "plt.savefig(\"City_Latitude_vs_Cloudiness.png\")\n",
    "\n",
    "# Show Plot\n",
    "plt.show()"
   ]
  },
  {
   "cell_type": "markdown",
   "metadata": {},
   "source": [
    "## Latitude vs. Wind Speed Plot"
   ]
  },
  {
   "cell_type": "code",
   "execution_count": 29,
   "metadata": {},
   "outputs": [
    {
     "data": {
      "image/png": "[encoded data removed]",
      "text/plain": [
       "<Figure size 432x288 with 1 Axes>"
      ]
     },
     "metadata": {
      "needs_background": "light"
     },
     "output_type": "display_data"
    }
   ],
   "source": [
    "plt.scatter(Weather_df[\"Lat\"], Weather_df[\"Wind Speed\"], facecolors=\"orange\", marker=\"o\", edgecolor=\"black\")\n",
    "\n",
    "plt.title(\"City Latitude vs. Wind Speed (20/04/2022)\")\n",
    "plt.ylabel(\"Wind Speed (mph)\")\n",
    "plt.xlabel(\"Latitude\")\n",
    "plt.grid(True)\n",
    "\n",
    "# Save Figure\n",
    "plt.savefig(\"City_Latitude_vs_Wind Speed.png\")\n",
    "\n",
    "# Show Plot\n",
    "plt.show()"
   ]
  },
  {
   "cell_type": "markdown",
   "metadata": {},
   "source": [
    "## Linear Regression"
   ]
  },
  {
   "cell_type": "code",
   "execution_count": 43,
   "metadata": {},
   "outputs": [
    {
     "name": "stdout",
     "output_type": "stream",
     "text": [
      "The correlation coefficient is -0.88\n"
     ]
    },
    {
     "data": {
      "text/plain": [
       "LinregressResult(slope=-0.962033657360684, intercept=91.65623391034671, rvalue=-0.884470371554272, pvalue=1.5820511630795112e-128, stderr=0.02596669284534397, intercept_stderr=1.1352173954056335)"
      ]
     },
     "execution_count": 43,
     "metadata": {},
     "output_type": "execute_result"
    }
   ],
   "source": [
    "northern = Weather_df.loc[Weather_df[\"Lat\"] >= 0.0]\n",
    "southern = Weather_df.loc[Weather_df[\"Lat\"] < 0.0]\n",
    "\n",
    "correlation=round(st.pearsonr(northern['Lat'],northern['Max Temp'])[0],2)\n",
    "print(f\"The correlation coefficient is {correlation}\")\n",
    "\n",
    "model=st.linregress(northern['Lat'],northern['Max Temp'])\n",
    "model\n",
    " "
   ]
  },
  {
   "cell_type": "markdown",
   "metadata": {},
   "source": [
    "####  Northern Hemisphere - Max Temp vs. Latitude Linear Regression"
   ]
  },
  {
   "cell_type": "code",
   "execution_count": 45,
   "metadata": {},
   "outputs": [
    {
     "name": "stdout",
     "output_type": "stream",
     "text": [
      "The correlation coefficient is -0.88\n"
     ]
    },
    {
     "data": {
      "image/png": "[encoded data removed]",
      "text/plain": [
       "<Figure size 432x288 with 1 Axes>"
      ]
     },
     "metadata": {
      "needs_background": "light"
     },
     "output_type": "display_data"
    }
   ],
   "source": [
    "correlation=round(st.pearsonr(northern['Lat'],northern['Max Temp'])[0],2)\n",
    "print(f\"The correlation coefficient is {correlation}\")\n",
    "\n",
    "model=st.linregress(northern['Lat'],northern['Max Temp'])\n",
    "\n",
    "\n",
    "slope = -0.962033657360684\n",
    "intercept = 91.65623391034671\n",
    "\n",
    "y_axis = northern['Lat']*slope+intercept\n",
    "line_eq = \"y = \" + str(round(slope,2)) + \"x + \" + str(round(intercept,2))\n",
    "plt.scatter(northern['Lat'],northern['Max Temp'])\n",
    "plt.plot(northern['Lat'],y_axis,color=\"red\")\n",
    "plt.annotate(line_eq,(0,20),fontsize=15,color=\"red\")\n",
    "plt.xlabel('Lattitude')\n",
    "plt.ylabel('Max Temp (F)');\n",
    "\n",
    "plt.savefig(\"Nortehrn_Hem_Max_Temp_vs_Lattitude.png\")\n",
    "plt.show()\n"
   ]
  },
  {
   "cell_type": "markdown",
   "metadata": {},
   "source": [
    "####  Southern Hemisphere - Max Temp vs. Latitude Linear Regression"
   ]
  },
  {
   "cell_type": "code",
   "execution_count": 49,
   "metadata": {},
   "outputs": [
    {
     "name": "stdout",
     "output_type": "stream",
     "text": [
      "The correlation coefficient is 0.56\n"
     ]
    },
    {
     "data": {
      "image/png": "[encoded data removed]",
      "text/plain": [
       "<Figure size 432x288 with 1 Axes>"
      ]
     },
     "metadata": {
      "needs_background": "light"
     },
     "output_type": "display_data"
    }
   ],
   "source": [
    "correlation=round(st.pearsonr(southern['Lat'],southern['Max Temp'])[0],2)\n",
    "print(f\"The correlation coefficient is {correlation}\")\n",
    "\n",
    "model=st.linregress(southern['Lat'],southern['Max Temp'])\n",
    "\n",
    "\n",
    "slope = 0.4329412116097228\n",
    "intercept = 80.07680395495782\n",
    "\n",
    "y_axis = southern['Lat']*slope+intercept\n",
    "line_eq = \"y = \" + str(round(slope,2)) + \"x + \" + str(round(intercept,2))\n",
    "plt.scatter(southern['Lat'],southern['Max Temp'])\n",
    "plt.plot(southern['Lat'],y_axis,color=\"red\")\n",
    "plt.annotate(line_eq,(-50,90),fontsize=15,color=\"red\")\n",
    "plt.xlabel('Lattitude')\n",
    "plt.ylabel('Max Temp (F)');\n",
    "\n",
    "plt.savefig(\"Southern_Hem_Max_Temp_vs_Lattitude.png\")\n",
    "plt.show()"
   ]
  },
  {
   "cell_type": "markdown",
   "metadata": {},
   "source": [
    "####  Northern Hemisphere - Humidity (%) vs. Latitude Linear Regression"
   ]
  },
  {
   "cell_type": "code",
   "execution_count": 50,
   "metadata": {},
   "outputs": [
    {
     "name": "stdout",
     "output_type": "stream",
     "text": [
      "The correlation coefficient is 0.26\n"
     ]
    },
    {
     "data": {
      "image/png": "[encoded data removed]",
      "text/plain": [
       "<Figure size 432x288 with 1 Axes>"
      ]
     },
     "metadata": {
      "needs_background": "light"
     },
     "output_type": "display_data"
    }
   ],
   "source": [
    "correlation=round(st.pearsonr(northern['Lat'],northern['Humidity'])[0],2)\n",
    "print(f\"The correlation coefficient is {correlation}\")\n",
    "\n",
    "model=st.linregress(northern['Lat'],northern['Humidity'])\n",
    "\n",
    "\n",
    "slope = 0.3124333163685088\n",
    "intercept = 55.43740678282178\n",
    "\n",
    "y_axis = northern['Lat']*slope+intercept\n",
    "line_eq = \"y = \" + str(round(slope,2)) + \"x + \" + str(round(intercept,2))\n",
    "plt.scatter(northern['Lat'],northern['Humidity'])\n",
    "plt.plot(northern['Lat'],y_axis,color=\"red\")\n",
    "plt.annotate(line_eq,(0,20),fontsize=15,color=\"red\")\n",
    "plt.xlabel('Lattitude')\n",
    "plt.ylabel('Humidity (%)');\n",
    "\n",
    "plt.savefig(\"Northern_Hem_Humidity_vs_Lattitude.png\")\n",
    "plt.show()\n"
   ]
  },
  {
   "cell_type": "markdown",
   "metadata": {},
   "source": [
    "####  Southern Hemisphere - Humidity (%) vs. Latitude Linear Regression"
   ]
  },
  {
   "cell_type": "code",
   "execution_count": 53,
   "metadata": {},
   "outputs": [
    {
     "name": "stdout",
     "output_type": "stream",
     "text": [
      "The correlation coefficient is 0.29\n"
     ]
    },
    {
     "data": {
      "image/png": "[encoded data removed]",
      "text/plain": [
       "<Figure size 432x288 with 1 Axes>"
      ]
     },
     "metadata": {
      "needs_background": "light"
     },
     "output_type": "display_data"
    }
   ],
   "source": [
    "correlation=round(st.pearsonr(southern['Lat'],southern['Humidity'])[0],2)\n",
    "print(f\"The correlation coefficient is {correlation}\")\n",
    "\n",
    "model=st.linregress(southern['Lat'],southern['Humidity'])\n",
    "\n",
    "\n",
    "slope = 0.428013964452479\n",
    "intercept = 83.05434852614901\n",
    "\n",
    "y_axis = southern['Lat']*slope+intercept\n",
    "line_eq = \"y = \" + str(round(slope,2)) + \"x + \" + str(round(intercept,2))\n",
    "plt.scatter(southern['Lat'],southern['Humidity'])\n",
    "plt.plot(southern['Lat'],y_axis,color=\"red\")\n",
    "plt.annotate(line_eq,(-50,20),fontsize=15,color=\"red\")\n",
    "plt.xlabel('Lattitude')\n",
    "plt.ylabel('Humidity (%)');\n",
    "\n",
    "plt.savefig(\"Southern_Hem_Humidity_vs_Lattitude.png\")\n",
    "plt.show()"
   ]
  },
  {
   "cell_type": "markdown",
   "metadata": {},
   "source": [
    "####  Northern Hemisphere - Cloudiness (%) vs. Latitude Linear Regression"
   ]
  },
  {
   "cell_type": "code",
   "execution_count": 55,
   "metadata": {},
   "outputs": [
    {
     "name": "stdout",
     "output_type": "stream",
     "text": [
      "The correlation coefficient is 0.09\n"
     ]
    },
    {
     "data": {
      "image/png": "[encoded data removed]",
      "text/plain": [
       "<Figure size 432x288 with 1 Axes>"
      ]
     },
     "metadata": {
      "needs_background": "light"
     },
     "output_type": "display_data"
    }
   ],
   "source": [
    "correlation=round(st.pearsonr(northern['Lat'],northern['Cloudiness'])[0],2)\n",
    "print(f\"The correlation coefficient is {correlation}\")\n",
    "\n",
    "model=st.linregress(northern['Lat'],northern['Cloudiness'])\n",
    "\n",
    "slope = 0.1770445140787561\n",
    "intercept = 50.334622716158094\n",
    "\n",
    "y_axis = northern['Lat']*slope+intercept\n",
    "line_eq = \"y = \" + str(round(slope,2)) + \"x + \" + str(round(intercept,2))\n",
    "plt.scatter(northern['Lat'],northern['Cloudiness'])\n",
    "plt.plot(northern['Lat'],y_axis,color=\"red\")\n",
    "plt.annotate(line_eq,(0,20),fontsize=15,color=\"red\")\n",
    "plt.xlabel('Lattitude')\n",
    "plt.ylabel('Cloudiness (%)');\n",
    "\n",
    "plt.savefig(\"Northern_Hem_Cloudiness_vs_Lattitude.png\")\n",
    "plt.show()"
   ]
  },
  {
   "cell_type": "markdown",
   "metadata": {},
   "source": [
    "####  Southern Hemisphere - Cloudiness (%) vs. Latitude Linear Regression"
   ]
  },
  {
   "cell_type": "code",
   "execution_count": 58,
   "metadata": {},
   "outputs": [
    {
     "name": "stdout",
     "output_type": "stream",
     "text": [
      "The correlation coefficient is 0.26\n"
     ]
    },
    {
     "data": {
      "image/png": "[encoded data removed]",
      "text/plain": [
       "<Figure size 432x288 with 1 Axes>"
      ]
     },
     "metadata": {
      "needs_background": "light"
     },
     "output_type": "display_data"
    }
   ],
   "source": [
    "correlation=round(st.pearsonr(southern['Lat'],southern['Cloudiness'])[0],2)\n",
    "print(f\"The correlation coefficient is {correlation}\")\n",
    "\n",
    "model=st.linregress(southern['Lat'],southern['Cloudiness'])\n",
    "\n",
    "slope = 0.7561865779131952\n",
    "intercept = 68.32324458195045\n",
    "\n",
    "y_axis = southern['Lat']*slope+intercept\n",
    "line_eq = \"y = \" + str(round(slope,2)) + \"x + \" + str(round(intercept,2))\n",
    "plt.scatter(southern['Lat'],southern['Cloudiness'])\n",
    "plt.plot(southern['Lat'],y_axis,color=\"red\")\n",
    "plt.annotate(line_eq,(-50,60),fontsize=15,color=\"red\")\n",
    "plt.xlabel('Lattitude')\n",
    "plt.ylabel('Cloudiness (%)');\n",
    "\n",
    "plt.savefig(\"Southern_Hem_Cloudiness_vs_Lattitude.png\")\n",
    "plt.show()"
   ]
  },
  {
   "cell_type": "markdown",
   "metadata": {},
   "source": [
    "####  Northern Hemisphere - Wind Speed (mph) vs. Latitude Linear Regression"
   ]
  },
  {
   "cell_type": "code",
   "execution_count": 61,
   "metadata": {},
   "outputs": [
    {
     "name": "stdout",
     "output_type": "stream",
     "text": [
      "The correlation coefficient is 0.09\n"
     ]
    },
    {
     "data": {
      "image/png": "[encoded data removed]",
      "text/plain": [
       "<Figure size 432x288 with 1 Axes>"
      ]
     },
     "metadata": {
      "needs_background": "light"
     },
     "output_type": "display_data"
    }
   ],
   "source": [
    "correlation=round(st.pearsonr(northern['Lat'],northern['Wind Speed'])[0],2)\n",
    "print(f\"The correlation coefficient is {correlation}\")\n",
    "\n",
    "model=st.linregress(northern['Lat'],northern['Wind Speed'])\n",
    "\n",
    "slope = 0.028377370124545744\n",
    "intercept = 7.366038941654194\n",
    "\n",
    "y_axis = northern['Lat']*slope+intercept\n",
    "line_eq = \"y = \" + str(round(slope,2)) + \"x + \" + str(round(intercept,2))\n",
    "plt.scatter(northern['Lat'],northern['Wind Speed'])\n",
    "plt.plot(northern['Lat'],y_axis,color=\"red\")\n",
    "plt.annotate(line_eq,(0,30),fontsize=15,color=\"red\")\n",
    "plt.xlabel('Lattitude')\n",
    "plt.ylabel('Wind Speed (mph)');\n",
    "\n",
    "plt.savefig(\"Northern_Hem_Wind_Speed_vs_Lattitude.png\")\n",
    "plt.show()"
   ]
  },
  {
   "cell_type": "markdown",
   "metadata": {},
   "source": [
    "####  Southern Hemisphere - Wind Speed (mph) vs. Latitude Linear Regression"
   ]
  },
  {
   "cell_type": "code",
   "execution_count": 64,
   "metadata": {},
   "outputs": [
    {
     "name": "stdout",
     "output_type": "stream",
     "text": [
      "The correlation coefficient is -0.25\n"
     ]
    },
    {
     "data": {
      "image/png": "[encoded data removed]",
      "text/plain": [
       "<Figure size 432x288 with 1 Axes>"
      ]
     },
     "metadata": {
      "needs_background": "light"
     },
     "output_type": "display_data"
    }
   ],
   "source": [
    "correlation=round(st.pearsonr(southern['Lat'],southern['Wind Speed'])[0],2)\n",
    "print(f\"The correlation coefficient is {correlation}\")\n",
    "\n",
    "model=st.linregress(southern['Lat'],southern['Wind Speed'])\n",
    "\n",
    "slope = 0.07331225531643087\n",
    "intercept = 5.065930176575894\n",
    "\n",
    "y_axis = southern['Lat']*slope+intercept\n",
    "line_eq = \"y = \" + str(round(slope,2)) + \"x + \" + str(round(intercept,2))\n",
    "plt.scatter(southern['Lat'],southern['Wind Speed'])\n",
    "plt.plot(southern['Lat'],y_axis,color=\"red\")\n",
    "plt.annotate(line_eq,(-50,15),fontsize=15,color=\"red\")\n",
    "plt.xlabel('Lattitude')\n",
    "plt.ylabel('Wind Speed (mph)');\n",
    "\n",
    "plt.savefig(\"Southern_Hem_Wind_Speed_vs_Lattitude.png\")\n",
    "plt.show()"
   ]
  },
  {
   "cell_type": "code",
   "execution_count": null,
   "metadata": {},
   "outputs": [],
   "source": []
  }
 ],
 "metadata": {
  "anaconda-cloud": {},
  "kernel_info": {
   "name": "python3"
  },
  "kernelspec": {
   "display_name": "Python 3",
   "language": "python",
   "name": "python3"
  },
  "language_info": {
   "codemirror_mode": {
    "name": "ipython",
    "version": 3
   },
   "file_extension": ".py",
   "mimetype": "text/x-python",
   "name": "python",
   "nbconvert_exporter": "python",
   "pygments_lexer": "ipython3",
   "version": "3.9.7"
  },
  "latex_envs": {
   "LaTeX_envs_menu_present": true,
   "autoclose": false,
   "autocomplete": true,
   "bibliofile": "biblio.bib",
   "cite_by": "apalike",
   "current_citInitial": 1,
   "eqLabelWithNumbers": true,
   "eqNumInitial": 1,
   "hotkeys": {
    "equation": "Ctrl-E",
    "itemize": "Ctrl-I"
   },
   "labels_anchors": false,
   "latex_user_defs": false,
   "report_style_numbering": false,
   "user_envs_cfg": false
  },
  "nteract": {
   "version": "0.12.3"
  }
 },
 "nbformat": 4,
 "nbformat_minor": 2
}
